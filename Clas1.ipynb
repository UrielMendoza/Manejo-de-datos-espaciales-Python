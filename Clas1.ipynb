{
 "cells": [
  {
   "cell_type": "code",
   "execution_count": 1,
   "metadata": {},
   "outputs": [],
   "source": [
    "# -*- coding: utf-8 -*-"
   ]
  },
  {
   "cell_type": "markdown",
   "metadata": {},
   "source": [
    "#### Variables\n",
    "\n",
    "Son indicaciones en la memória para valores guardados y que pueden facilmente ser cambiados durante la ejecución del programa.\n",
    "\n",
    "##### Reglas para definición de nombres:\n",
    "\n",
    "No pueden empezar com numeros;\n",
    "No utilizar acentos;\n",
    "No poner caracteres especiales;\n",
    "utilizamos uno signo igual (=) para para asignar un valor a una variable y dos dos iguales para compara los valores;"
   ]
  },
  {
   "cell_type": "markdown",
   "metadata": {},
   "source": [
    "#### Tipos de datos "
   ]
  },
  {
   "cell_type": "markdown",
   "metadata": {},
   "source": [
    "##### Números enteros (int)"
   ]
  },
  {
   "cell_type": "code",
   "execution_count": 33,
   "metadata": {},
   "outputs": [],
   "source": []
  },
  {
   "cell_type": "markdown",
   "metadata": {},
   "source": [
    "##### Números de punto flotante (float)"
   ]
  },
  {
   "cell_type": "code",
   "execution_count": null,
   "metadata": {},
   "outputs": [],
   "source": []
  },
  {
   "cell_type": "markdown",
   "metadata": {},
   "source": [
    "##### Números complejos (complex)"
   ]
  },
  {
   "cell_type": "code",
   "execution_count": null,
   "metadata": {},
   "outputs": [],
   "source": []
  },
  {
   "cell_type": "markdown",
   "metadata": {},
   "source": [
    "##### Valores booleanos (bool)\n"
   ]
  },
  {
   "cell_type": "code",
   "execution_count": 46,
   "metadata": {},
   "outputs": [],
   "source": []
  },
  {
   "cell_type": "markdown",
   "metadata": {},
   "source": [
    "#### Cadenas de caracteres (str)\n",
    "\n",
    "Carácteres Especiales\n",
    "\n",
    "** \\ ** sirve para escapar comillas\n",
    "\n",
    "** \\n** sirve para nueva línea\n",
    "\n",
    "** \\t** sirve para uno espacio de tabulación"
   ]
  },
  {
   "cell_type": "code",
   "execution_count": null,
   "metadata": {},
   "outputs": [],
   "source": []
  },
  {
   "cell_type": "markdown",
   "metadata": {},
   "source": [
    "##### solicitar valores al usuario"
   ]
  },
  {
   "cell_type": "code",
   "execution_count": null,
   "metadata": {},
   "outputs": [],
   "source": []
  },
  {
   "cell_type": "markdown",
   "metadata": {},
   "source": [
    "#### Operaciones"
   ]
  },
  {
   "cell_type": "code",
   "execution_count": null,
   "metadata": {},
   "outputs": [],
   "source": []
  },
  {
   "cell_type": "markdown",
   "metadata": {},
   "source": [
    "#### Listas\n",
    "\n",
    "Python tiene varios tipos de datos compuestos, usados para agrupar otros valores.\n",
    "\n",
    "El más versátil es la lista, la cual puede ser escrita como una lista de valores separados por coma (ítems) entre corchetes.\n",
    "\n",
    "Las listas pueden contener ítems de diferentes tipos, pero usualmente los ítems son del mismo tipo."
   ]
  },
  {
   "cell_type": "code",
   "execution_count": null,
   "metadata": {},
   "outputs": [],
   "source": []
  },
  {
   "cell_type": "markdown",
   "metadata": {},
   "source": [
    "#### Estructura de control: ciclo for\n",
    "\n",
    "operadores relacionales: (igual a: ==) (mayor que: >) (mayor o igual que: >=) (menor que: <) (menor o igual que: <=) (distinto que: !=)\n",
    "\n",
    "#### operadores logicos (and) (or)"
   ]
  },
  {
   "cell_type": "code",
   "execution_count": null,
   "metadata": {},
   "outputs": [],
   "source": []
  },
  {
   "cell_type": "markdown",
   "metadata": {},
   "source": [
    "#### Lista de listas"
   ]
  },
  {
   "cell_type": "code",
   "execution_count": null,
   "metadata": {},
   "outputs": [],
   "source": []
  },
  {
   "cell_type": "markdown",
   "metadata": {},
   "source": [
    "#### Tuplas"
   ]
  },
  {
   "cell_type": "code",
   "execution_count": null,
   "metadata": {},
   "outputs": [],
   "source": []
  },
  {
   "cell_type": "markdown",
   "metadata": {},
   "source": [
    "#### Estructura de control iteractiva: while"
   ]
  },
  {
   "cell_type": "code",
   "execution_count": null,
   "metadata": {},
   "outputs": [],
   "source": []
  },
  {
   "cell_type": "markdown",
   "metadata": {},
   "source": [
    "#### Diccionarios:\n",
    "\n",
    "Los diccionarios son objetos que contienen una lista de parejas de elementos. De cada pareja un elemento es la clave, que no puede repetirse y el otro, un valor asociado. La clave que se utiliza para acceder al valor tiene que ser un dato inmutable como una cadena, mientras que el valor puede ser un número, una cadena, un valor lógico (True/False), una lista o una tupla.\n",
    "Los pares clave-valor están separados por dos puntos, las parejas por comas y todo el conjunto se encierra entre llaves.\n",
    "\n",
    "\n"
   ]
  },
  {
   "cell_type": "code",
   "execution_count": null,
   "metadata": {},
   "outputs": [],
   "source": []
  },
  {
   "cell_type": "markdown",
   "metadata": {},
   "source": [
    "#### Funciones: bloque de codigo que hace una tarea y devuelve un resultado"
   ]
  },
  {
   "cell_type": "code",
   "execution_count": null,
   "metadata": {},
   "outputs": [],
   "source": []
  },
  {
   "cell_type": "markdown",
   "metadata": {},
   "source": [
    "EJERCICIO"
   ]
  },
  {
   "cell_type": "code",
   "execution_count": 2,
   "metadata": {},
   "outputs": [],
   "source": [
    "pts = {\"OCGCE3349\":[\"Rio Coatzacoalcos 1\",324276.783,1975545.007,30,\"Excelente\"],\"OCGCE3375\":[\"Estero Otapa\",333721.484,1978209.607,30,\"Excelente\"],\"OCGCE3419\":[\"Rio Chiquito\",324809.168,1976885.060,30,\"Excelente\"],\"OCGCE3451\":[\"Rio Coachapa\",335629.179,1983071.131,30,\"Excelente\"],\"OCGCE3456\":[\"Rio Coatzacoalcos 2\",335749.060,1987914.435,30,\"Excelente\"],\"OCGCE3459\":[\"Rio Coatzacoalcos 3\",335444.082,1983614.990,30,\"Excelente\"],\"OCGCE3461\":[\"Rio Coatzacoalcos 4\",334017.146,1978727.190,30,\"Excelente\"],\"OCGCE3452\":[\"Rio San Antonio\",346987.344,1991813.445,30,\"Excelente\"],\"OCGCE3453\":[\"Rio Coatzacoalcos 5\",346699.428,1992369.053,30,\"Buena\"],\"OCGCE3455\":[\"Rio Uxpanapa\",343591.833,1986415.040,30,\"Excelente\"],\"OCGCE3161\":[\"Rio Coatzacoalcos 6\",350266.511,1999116.741,30,\"Buena\"],\"OCGCE3331\":[\"Rio Calzadas\",347767.515,2001577.481,30,\"Aceptable\"],\"OCGCE3367\":[\"Rio Coatzacoalcos 7\",343245.407,1987337.489,30,\"Buena\"]}"
   ]
  },
  {
   "cell_type": "markdown",
   "metadata": {},
   "source": [
    "#### Imprimir claves del diccionario"
   ]
  },
  {
   "cell_type": "code",
   "execution_count": null,
   "metadata": {},
   "outputs": [],
   "source": []
  },
  {
   "cell_type": "markdown",
   "metadata": {},
   "source": [
    "#### Imprimir valores del diccionario"
   ]
  },
  {
   "cell_type": "code",
   "execution_count": null,
   "metadata": {},
   "outputs": [],
   "source": []
  },
  {
   "cell_type": "markdown",
   "metadata": {},
   "source": [
    "#### Ingresar a la posicion 0 del valor 0 del diccionario"
   ]
  },
  {
   "cell_type": "code",
   "execution_count": null,
   "metadata": {},
   "outputs": [],
   "source": []
  },
  {
   "cell_type": "markdown",
   "metadata": {},
   "source": [
    "#### Imprimir las claves"
   ]
  },
  {
   "cell_type": "code",
   "execution_count": null,
   "metadata": {},
   "outputs": [],
   "source": []
  },
  {
   "cell_type": "markdown",
   "metadata": {},
   "source": [
    "#### Imprimir los valores"
   ]
  },
  {
   "cell_type": "code",
   "execution_count": null,
   "metadata": {},
   "outputs": [],
   "source": []
  },
  {
   "cell_type": "markdown",
   "metadata": {},
   "source": [
    "#### Extraer las coordenadas X,Y y almcenarlas en listas"
   ]
  },
  {
   "cell_type": "code",
   "execution_count": null,
   "metadata": {},
   "outputs": [],
   "source": []
  },
  {
   "cell_type": "raw",
   "metadata": {},
   "source": [
    "Imprimir coordenadas en este formato:\n",
    "(343245.407, 1987337.489)\n",
    "(347767.515, 2001577.481)\n",
    ".\n",
    ".\n",
    "."
   ]
  },
  {
   "cell_type": "code",
   "execution_count": null,
   "metadata": {},
   "outputs": [],
   "source": []
  },
  {
   "cell_type": "raw",
   "metadata": {},
   "source": [
    "Imprimir el diccionario en este formato:\n",
    "OCGCE3367 \tRio Coatzacoalcos 7 \t343245.407 \t1987337.489 \t30 \tBuena\n",
    "OCGCE3331 \tRio Calzadas \t347767.515 \t2001577.481 \t30 \tAceptable\n",
    ".\n",
    ".\n",
    "."
   ]
  },
  {
   "cell_type": "code",
   "execution_count": null,
   "metadata": {},
   "outputs": [],
   "source": []
  },
  {
   "cell_type": "raw",
   "metadata": {},
   "source": [
    "Imprimir solo elementos de calidad 'Buena'\n",
    "\n",
    "OCGCE3367 \tRio Coatzacoalcos 7 \t343245.407 \t1987337.489 \t30 \tBuena\n",
    ".\n",
    ".\n",
    "."
   ]
  },
  {
   "cell_type": "code",
   "execution_count": null,
   "metadata": {},
   "outputs": [],
   "source": []
  },
  {
   "cell_type": "markdown",
   "metadata": {},
   "source": [
    "Eliminar el codigo de estado del diccionario"
   ]
  },
  {
   "cell_type": "code",
   "execution_count": null,
   "metadata": {},
   "outputs": [],
   "source": []
  }
 ],
 "metadata": {
  "kernelspec": {
   "display_name": "Python 3",
   "language": "python",
   "name": "python3"
  },
  "language_info": {
   "codemirror_mode": {
    "name": "ipython",
    "version": 3
   },
   "file_extension": ".py",
   "mimetype": "text/x-python",
   "name": "python",
   "nbconvert_exporter": "python",
   "pygments_lexer": "ipython3",
   "version": "3.6.7"
  }
 },
 "nbformat": 4,
 "nbformat_minor": 2
}
