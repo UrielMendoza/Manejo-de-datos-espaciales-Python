{
 "cells": [
  {
   "cell_type": "code",
   "execution_count": 1,
   "metadata": {},
   "outputs": [],
   "source": [
    "# -*- coding: utf-8 -*-"
   ]
  },
  {
   "cell_type": "markdown",
   "metadata": {},
   "source": [
    "Variables\n",
    "Son indicaciones en la memória para valores guardados y que pueden facilmente ser cambiados durante la ejecución del programa.\n",
    "\n",
    "Reglas para definición de nombres:\n",
    "\n",
    "No pueden empezar com numeros;\n",
    "No utilizar acentos;\n",
    "No poner caracteres especiales;\n",
    "utilizamos uno signo igual (=) para para asignar un valor a una variable y dos dos iguales para compara los valores;"
   ]
  },
  {
   "cell_type": "markdown",
   "metadata": {},
   "source": [
    "Tipos de datos "
   ]
  },
  {
   "cell_type": "markdown",
   "metadata": {},
   "source": [
    "Números enteros (int)"
   ]
  },
  {
   "cell_type": "code",
   "execution_count": 4,
   "metadata": {},
   "outputs": [],
   "source": [
    "a = 10"
   ]
  },
  {
   "cell_type": "code",
   "execution_count": 6,
   "metadata": {},
   "outputs": [
    {
     "name": "stdout",
     "output_type": "stream",
     "text": [
      "10\n"
     ]
    }
   ],
   "source": [
    "print a"
   ]
  },
  {
   "cell_type": "code",
   "execution_count": 7,
   "metadata": {},
   "outputs": [
    {
     "data": {
      "text/plain": [
       "int"
      ]
     },
     "execution_count": 7,
     "metadata": {},
     "output_type": "execute_result"
    }
   ],
   "source": [
    "type (a)"
   ]
  },
  {
   "cell_type": "markdown",
   "metadata": {},
   "source": [
    "Números de punto flotante (float)"
   ]
  },
  {
   "cell_type": "code",
   "execution_count": 8,
   "metadata": {},
   "outputs": [],
   "source": [
    "b = 3.3"
   ]
  },
  {
   "cell_type": "code",
   "execution_count": 11,
   "metadata": {},
   "outputs": [
    {
     "name": "stdout",
     "output_type": "stream",
     "text": [
      "El valor de b es:  3.3\n"
     ]
    }
   ],
   "source": [
    "print \"El valor de b es: \",b"
   ]
  },
  {
   "cell_type": "code",
   "execution_count": 12,
   "metadata": {},
   "outputs": [
    {
     "data": {
      "text/plain": [
       "float"
      ]
     },
     "execution_count": 12,
     "metadata": {},
     "output_type": "execute_result"
    }
   ],
   "source": [
    "type (b)"
   ]
  },
  {
   "cell_type": "markdown",
   "metadata": {},
   "source": [
    "Números complejos (complex)"
   ]
  },
  {
   "cell_type": "code",
   "execution_count": 14,
   "metadata": {},
   "outputs": [],
   "source": [
    "c = 3 + 2j"
   ]
  },
  {
   "cell_type": "code",
   "execution_count": 16,
   "metadata": {},
   "outputs": [],
   "source": [
    "d = complex(4,1)"
   ]
  },
  {
   "cell_type": "code",
   "execution_count": 17,
   "metadata": {},
   "outputs": [
    {
     "name": "stdout",
     "output_type": "stream",
     "text": [
      "(3+2j)\n",
      "(4+1j)\n"
     ]
    }
   ],
   "source": [
    "print c\n",
    "print d"
   ]
  },
  {
   "cell_type": "code",
   "execution_count": 20,
   "metadata": {},
   "outputs": [
    {
     "data": {
      "text/plain": [
       "complex"
      ]
     },
     "execution_count": 20,
     "metadata": {},
     "output_type": "execute_result"
    }
   ],
   "source": [
    "type (c)\n",
    "type (d)"
   ]
  },
  {
   "cell_type": "markdown",
   "metadata": {},
   "source": [
    "Valores booleanos (bool)\n"
   ]
  },
  {
   "cell_type": "code",
   "execution_count": 24,
   "metadata": {},
   "outputs": [],
   "source": [
    "e = (3==2)\n"
   ]
  },
  {
   "cell_type": "code",
   "execution_count": 26,
   "metadata": {},
   "outputs": [],
   "source": [
    "f = False"
   ]
  },
  {
   "cell_type": "code",
   "execution_count": 28,
   "metadata": {},
   "outputs": [
    {
     "name": "stdout",
     "output_type": "stream",
     "text": [
      "False\n"
     ]
    }
   ],
   "source": [
    "print f"
   ]
  },
  {
   "cell_type": "code",
   "execution_count": 29,
   "metadata": {},
   "outputs": [
    {
     "data": {
      "text/plain": [
       "bool"
      ]
     },
     "execution_count": 29,
     "metadata": {},
     "output_type": "execute_result"
    }
   ],
   "source": [
    "type (f)"
   ]
  },
  {
   "cell_type": "markdown",
   "metadata": {},
   "source": [
    "Cadenas de caracteres (str)\n",
    "\n",
    "Carácteres Especiales\n",
    "\n",
    "** \\ ** sirve para escapar comillas\n",
    "\n",
    "** \\n** sirve para nueva línea\n",
    "\n",
    "** \\t** sirve para uno espacio de tabulación"
   ]
  },
  {
   "cell_type": "code",
   "execution_count": 52,
   "metadata": {},
   "outputs": [
    {
     "name": "stdout",
     "output_type": "stream",
     "text": [
      "Python\n"
     ]
    }
   ],
   "source": [
    "g = \"Python\"\n",
    "print g"
   ]
  },
  {
   "cell_type": "code",
   "execution_count": 53,
   "metadata": {},
   "outputs": [
    {
     "name": "stdout",
     "output_type": "stream",
     "text": [
      "Python\n",
      "PHP\n",
      "Java\n"
     ]
    }
   ],
   "source": [
    "h = \"Python\\nPHP\\nJava\"\n",
    "print h"
   ]
  },
  {
   "cell_type": "code",
   "execution_count": 54,
   "metadata": {},
   "outputs": [
    {
     "data": {
      "text/plain": [
       "str"
      ]
     },
     "execution_count": 54,
     "metadata": {},
     "output_type": "execute_result"
    }
   ],
   "source": [
    "type (g)"
   ]
  },
  {
   "cell_type": "code",
   "execution_count": 55,
   "metadata": {
    "scrolled": true
   },
   "outputs": [
    {
     "name": "stdout",
     "output_type": "stream",
     "text": [
      "Help on class str in module __builtin__:\n",
      "\n",
      "class str(basestring)\n",
      " |  str(object='') -> string\n",
      " |  \n",
      " |  Return a nice string representation of the object.\n",
      " |  If the argument is a string, the return value is the same object.\n",
      " |  \n",
      " |  Method resolution order:\n",
      " |      str\n",
      " |      basestring\n",
      " |      object\n",
      " |  \n",
      " |  Methods defined here:\n",
      " |  \n",
      " |  __add__(...)\n",
      " |      x.__add__(y) <==> x+y\n",
      " |  \n",
      " |  __contains__(...)\n",
      " |      x.__contains__(y) <==> y in x\n",
      " |  \n",
      " |  __eq__(...)\n",
      " |      x.__eq__(y) <==> x==y\n",
      " |  \n",
      " |  __format__(...)\n",
      " |      S.__format__(format_spec) -> string\n",
      " |      \n",
      " |      Return a formatted version of S as described by format_spec.\n",
      " |  \n",
      " |  __ge__(...)\n",
      " |      x.__ge__(y) <==> x>=y\n",
      " |  \n",
      " |  __getattribute__(...)\n",
      " |      x.__getattribute__('name') <==> x.name\n",
      " |  \n",
      " |  __getitem__(...)\n",
      " |      x.__getitem__(y) <==> x[y]\n",
      " |  \n",
      " |  __getnewargs__(...)\n",
      " |  \n",
      " |  __getslice__(...)\n",
      " |      x.__getslice__(i, j) <==> x[i:j]\n",
      " |      \n",
      " |      Use of negative indices is not supported.\n",
      " |  \n",
      " |  __gt__(...)\n",
      " |      x.__gt__(y) <==> x>y\n",
      " |  \n",
      " |  __hash__(...)\n",
      " |      x.__hash__() <==> hash(x)\n",
      " |  \n",
      " |  __le__(...)\n",
      " |      x.__le__(y) <==> x<=y\n",
      " |  \n",
      " |  __len__(...)\n",
      " |      x.__len__() <==> len(x)\n",
      " |  \n",
      " |  __lt__(...)\n",
      " |      x.__lt__(y) <==> x<y\n",
      " |  \n",
      " |  __mod__(...)\n",
      " |      x.__mod__(y) <==> x%y\n",
      " |  \n",
      " |  __mul__(...)\n",
      " |      x.__mul__(n) <==> x*n\n",
      " |  \n",
      " |  __ne__(...)\n",
      " |      x.__ne__(y) <==> x!=y\n",
      " |  \n",
      " |  __repr__(...)\n",
      " |      x.__repr__() <==> repr(x)\n",
      " |  \n",
      " |  __rmod__(...)\n",
      " |      x.__rmod__(y) <==> y%x\n",
      " |  \n",
      " |  __rmul__(...)\n",
      " |      x.__rmul__(n) <==> n*x\n",
      " |  \n",
      " |  __sizeof__(...)\n",
      " |      S.__sizeof__() -> size of S in memory, in bytes\n",
      " |  \n",
      " |  __str__(...)\n",
      " |      x.__str__() <==> str(x)\n",
      " |  \n",
      " |  capitalize(...)\n",
      " |      S.capitalize() -> string\n",
      " |      \n",
      " |      Return a copy of the string S with only its first character\n",
      " |      capitalized.\n",
      " |  \n",
      " |  center(...)\n",
      " |      S.center(width[, fillchar]) -> string\n",
      " |      \n",
      " |      Return S centered in a string of length width. Padding is\n",
      " |      done using the specified fill character (default is a space)\n",
      " |  \n",
      " |  count(...)\n",
      " |      S.count(sub[, start[, end]]) -> int\n",
      " |      \n",
      " |      Return the number of non-overlapping occurrences of substring sub in\n",
      " |      string S[start:end].  Optional arguments start and end are interpreted\n",
      " |      as in slice notation.\n",
      " |  \n",
      " |  decode(...)\n",
      " |      S.decode([encoding[,errors]]) -> object\n",
      " |      \n",
      " |      Decodes S using the codec registered for encoding. encoding defaults\n",
      " |      to the default encoding. errors may be given to set a different error\n",
      " |      handling scheme. Default is 'strict' meaning that encoding errors raise\n",
      " |      a UnicodeDecodeError. Other possible values are 'ignore' and 'replace'\n",
      " |      as well as any other name registered with codecs.register_error that is\n",
      " |      able to handle UnicodeDecodeErrors.\n",
      " |  \n",
      " |  encode(...)\n",
      " |      S.encode([encoding[,errors]]) -> object\n",
      " |      \n",
      " |      Encodes S using the codec registered for encoding. encoding defaults\n",
      " |      to the default encoding. errors may be given to set a different error\n",
      " |      handling scheme. Default is 'strict' meaning that encoding errors raise\n",
      " |      a UnicodeEncodeError. Other possible values are 'ignore', 'replace' and\n",
      " |      'xmlcharrefreplace' as well as any other name registered with\n",
      " |      codecs.register_error that is able to handle UnicodeEncodeErrors.\n",
      " |  \n",
      " |  endswith(...)\n",
      " |      S.endswith(suffix[, start[, end]]) -> bool\n",
      " |      \n",
      " |      Return True if S ends with the specified suffix, False otherwise.\n",
      " |      With optional start, test S beginning at that position.\n",
      " |      With optional end, stop comparing S at that position.\n",
      " |      suffix can also be a tuple of strings to try.\n",
      " |  \n",
      " |  expandtabs(...)\n",
      " |      S.expandtabs([tabsize]) -> string\n",
      " |      \n",
      " |      Return a copy of S where all tab characters are expanded using spaces.\n",
      " |      If tabsize is not given, a tab size of 8 characters is assumed.\n",
      " |  \n",
      " |  find(...)\n",
      " |      S.find(sub [,start [,end]]) -> int\n",
      " |      \n",
      " |      Return the lowest index in S where substring sub is found,\n",
      " |      such that sub is contained within S[start:end].  Optional\n",
      " |      arguments start and end are interpreted as in slice notation.\n",
      " |      \n",
      " |      Return -1 on failure.\n",
      " |  \n",
      " |  format(...)\n",
      " |      S.format(*args, **kwargs) -> string\n",
      " |      \n",
      " |      Return a formatted version of S, using substitutions from args and kwargs.\n",
      " |      The substitutions are identified by braces ('{' and '}').\n",
      " |  \n",
      " |  index(...)\n",
      " |      S.index(sub [,start [,end]]) -> int\n",
      " |      \n",
      " |      Like S.find() but raise ValueError when the substring is not found.\n",
      " |  \n",
      " |  isalnum(...)\n",
      " |      S.isalnum() -> bool\n",
      " |      \n",
      " |      Return True if all characters in S are alphanumeric\n",
      " |      and there is at least one character in S, False otherwise.\n",
      " |  \n",
      " |  isalpha(...)\n",
      " |      S.isalpha() -> bool\n",
      " |      \n",
      " |      Return True if all characters in S are alphabetic\n",
      " |      and there is at least one character in S, False otherwise.\n",
      " |  \n",
      " |  isdigit(...)\n",
      " |      S.isdigit() -> bool\n",
      " |      \n",
      " |      Return True if all characters in S are digits\n",
      " |      and there is at least one character in S, False otherwise.\n",
      " |  \n",
      " |  islower(...)\n",
      " |      S.islower() -> bool\n",
      " |      \n",
      " |      Return True if all cased characters in S are lowercase and there is\n",
      " |      at least one cased character in S, False otherwise.\n",
      " |  \n",
      " |  isspace(...)\n",
      " |      S.isspace() -> bool\n",
      " |      \n",
      " |      Return True if all characters in S are whitespace\n",
      " |      and there is at least one character in S, False otherwise.\n",
      " |  \n",
      " |  istitle(...)\n",
      " |      S.istitle() -> bool\n",
      " |      \n",
      " |      Return True if S is a titlecased string and there is at least one\n",
      " |      character in S, i.e. uppercase characters may only follow uncased\n",
      " |      characters and lowercase characters only cased ones. Return False\n",
      " |      otherwise.\n",
      " |  \n",
      " |  isupper(...)\n",
      " |      S.isupper() -> bool\n",
      " |      \n",
      " |      Return True if all cased characters in S are uppercase and there is\n",
      " |      at least one cased character in S, False otherwise.\n",
      " |  \n",
      " |  join(...)\n",
      " |      S.join(iterable) -> string\n",
      " |      \n",
      " |      Return a string which is the concatenation of the strings in the\n",
      " |      iterable.  The separator between elements is S.\n",
      " |  \n",
      " |  ljust(...)\n",
      " |      S.ljust(width[, fillchar]) -> string\n",
      " |      \n",
      " |      Return S left-justified in a string of length width. Padding is\n",
      " |      done using the specified fill character (default is a space).\n",
      " |  \n",
      " |  lower(...)\n",
      " |      S.lower() -> string\n",
      " |      \n",
      " |      Return a copy of the string S converted to lowercase.\n",
      " |  \n",
      " |  lstrip(...)\n",
      " |      S.lstrip([chars]) -> string or unicode\n",
      " |      \n",
      " |      Return a copy of the string S with leading whitespace removed.\n",
      " |      If chars is given and not None, remove characters in chars instead.\n",
      " |      If chars is unicode, S will be converted to unicode before stripping\n",
      " |  \n",
      " |  partition(...)\n",
      " |      S.partition(sep) -> (head, sep, tail)\n",
      " |      \n",
      " |      Search for the separator sep in S, and return the part before it,\n",
      " |      the separator itself, and the part after it.  If the separator is not\n",
      " |      found, return S and two empty strings.\n",
      " |  \n",
      " |  replace(...)\n",
      " |      S.replace(old, new[, count]) -> string\n",
      " |      \n",
      " |      Return a copy of string S with all occurrences of substring\n",
      " |      old replaced by new.  If the optional argument count is\n",
      " |      given, only the first count occurrences are replaced.\n",
      " |  \n",
      " |  rfind(...)\n",
      " |      S.rfind(sub [,start [,end]]) -> int\n",
      " |      \n",
      " |      Return the highest index in S where substring sub is found,\n",
      " |      such that sub is contained within S[start:end].  Optional\n",
      " |      arguments start and end are interpreted as in slice notation.\n",
      " |      \n",
      " |      Return -1 on failure.\n",
      " |  \n",
      " |  rindex(...)\n",
      " |      S.rindex(sub [,start [,end]]) -> int\n",
      " |      \n",
      " |      Like S.rfind() but raise ValueError when the substring is not found.\n",
      " |  \n",
      " |  rjust(...)\n",
      " |      S.rjust(width[, fillchar]) -> string\n",
      " |      \n",
      " |      Return S right-justified in a string of length width. Padding is\n",
      " |      done using the specified fill character (default is a space)\n",
      " |  \n",
      " |  rpartition(...)\n",
      " |      S.rpartition(sep) -> (head, sep, tail)\n",
      " |      \n",
      " |      Search for the separator sep in S, starting at the end of S, and return\n",
      " |      the part before it, the separator itself, and the part after it.  If the\n",
      " |      separator is not found, return two empty strings and S.\n",
      " |  \n",
      " |  rsplit(...)\n",
      " |      S.rsplit([sep [,maxsplit]]) -> list of strings\n",
      " |      \n",
      " |      Return a list of the words in the string S, using sep as the\n",
      " |      delimiter string, starting at the end of the string and working\n",
      " |      to the front.  If maxsplit is given, at most maxsplit splits are\n",
      " |      done. If sep is not specified or is None, any whitespace string\n",
      " |      is a separator.\n",
      " |  \n",
      " |  rstrip(...)\n",
      " |      S.rstrip([chars]) -> string or unicode\n",
      " |      \n",
      " |      Return a copy of the string S with trailing whitespace removed.\n",
      " |      If chars is given and not None, remove characters in chars instead.\n",
      " |      If chars is unicode, S will be converted to unicode before stripping\n",
      " |  \n",
      " |  split(...)\n",
      " |      S.split([sep [,maxsplit]]) -> list of strings\n",
      " |      \n",
      " |      Return a list of the words in the string S, using sep as the\n",
      " |      delimiter string.  If maxsplit is given, at most maxsplit\n",
      " |      splits are done. If sep is not specified or is None, any\n",
      " |      whitespace string is a separator and empty strings are removed\n",
      " |      from the result.\n",
      " |  \n",
      " |  splitlines(...)\n",
      " |      S.splitlines(keepends=False) -> list of strings\n",
      " |      \n",
      " |      Return a list of the lines in S, breaking at line boundaries.\n",
      " |      Line breaks are not included in the resulting list unless keepends\n",
      " |      is given and true.\n",
      " |  \n",
      " |  startswith(...)\n",
      " |      S.startswith(prefix[, start[, end]]) -> bool\n",
      " |      \n",
      " |      Return True if S starts with the specified prefix, False otherwise.\n",
      " |      With optional start, test S beginning at that position.\n",
      " |      With optional end, stop comparing S at that position.\n",
      " |      prefix can also be a tuple of strings to try.\n",
      " |  \n",
      " |  strip(...)\n",
      " |      S.strip([chars]) -> string or unicode\n",
      " |      \n",
      " |      Return a copy of the string S with leading and trailing\n",
      " |      whitespace removed.\n",
      " |      If chars is given and not None, remove characters in chars instead.\n",
      " |      If chars is unicode, S will be converted to unicode before stripping\n",
      " |  \n",
      " |  swapcase(...)\n",
      " |      S.swapcase() -> string\n",
      " |      \n",
      " |      Return a copy of the string S with uppercase characters\n",
      " |      converted to lowercase and vice versa.\n",
      " |  \n",
      " |  title(...)\n",
      " |      S.title() -> string\n",
      " |      \n",
      " |      Return a titlecased version of S, i.e. words start with uppercase\n",
      " |      characters, all remaining cased characters have lowercase.\n",
      " |  \n",
      " |  translate(...)\n",
      " |      S.translate(table [,deletechars]) -> string\n",
      " |      \n",
      " |      Return a copy of the string S, where all characters occurring\n",
      " |      in the optional argument deletechars are removed, and the\n",
      " |      remaining characters have been mapped through the given\n",
      " |      translation table, which must be a string of length 256 or None.\n",
      " |      If the table argument is None, no translation is applied and\n",
      " |      the operation simply removes the characters in deletechars.\n",
      " |  \n",
      " |  upper(...)\n",
      " |      S.upper() -> string\n",
      " |      \n",
      " |      Return a copy of the string S converted to uppercase.\n",
      " |  \n",
      " |  zfill(...)\n",
      " |      S.zfill(width) -> string\n",
      " |      \n",
      " |      Pad a numeric string S with zeros on the left, to fill a field\n",
      " |      of the specified width.  The string S is never truncated.\n",
      " |  \n",
      " |  ----------------------------------------------------------------------\n",
      " |  Data and other attributes defined here:\n",
      " |  \n",
      " |  __new__ = <built-in method __new__ of type object>\n",
      " |      T.__new__(S, ...) -> a new object with type S, a subtype of T\n",
      "\n"
     ]
    }
   ],
   "source": [
    "help (str)"
   ]
  },
  {
   "cell_type": "code",
   "execution_count": 56,
   "metadata": {},
   "outputs": [
    {
     "data": {
      "text/plain": [
       "'Python2.7'"
      ]
     },
     "execution_count": 56,
     "metadata": {},
     "output_type": "execute_result"
    }
   ],
   "source": [
    "g.__add__(\"2.7\")"
   ]
  },
  {
   "cell_type": "code",
   "execution_count": 57,
   "metadata": {},
   "outputs": [
    {
     "name": "stdout",
     "output_type": "stream",
     "text": [
      "Python\n"
     ]
    }
   ],
   "source": [
    "print g"
   ]
  },
  {
   "cell_type": "code",
   "execution_count": 58,
   "metadata": {},
   "outputs": [],
   "source": [
    "g = g.__add__(\"2.7\")"
   ]
  },
  {
   "cell_type": "code",
   "execution_count": 59,
   "metadata": {},
   "outputs": [
    {
     "name": "stdout",
     "output_type": "stream",
     "text": [
      "Python2.7\n"
     ]
    }
   ],
   "source": [
    "print g\n"
   ]
  },
  {
   "cell_type": "markdown",
   "metadata": {},
   "source": [
    "solicitar valores al usuario"
   ]
  },
  {
   "cell_type": "code",
   "execution_count": 68,
   "metadata": {},
   "outputs": [
    {
     "name": "stdout",
     "output_type": "stream",
     "text": [
      "Ingrese el valor: 15\n"
     ]
    }
   ],
   "source": [
    "h = input(\"Ingrese el valor: \")"
   ]
  },
  {
   "cell_type": "code",
   "execution_count": 69,
   "metadata": {},
   "outputs": [
    {
     "name": "stdout",
     "output_type": "stream",
     "text": [
      "15\n"
     ]
    }
   ],
   "source": [
    "print h"
   ]
  },
  {
   "cell_type": "markdown",
   "metadata": {},
   "source": [
    "Operaciones"
   ]
  },
  {
   "cell_type": "code",
   "execution_count": 71,
   "metadata": {},
   "outputs": [
    {
     "name": "stdout",
     "output_type": "stream",
     "text": [
      "13.3\n",
      "6.7\n",
      "3.0303030303\n",
      "33.0\n",
      "3.0\n",
      "1995.26231497\n"
     ]
    }
   ],
   "source": [
    "print a + b\n",
    "print a - b\n",
    "print a / b\n",
    "print a * b\n",
    "print a // b\n",
    "print a ** b"
   ]
  },
  {
   "cell_type": "markdown",
   "metadata": {},
   "source": [
    "Listas\n",
    "\n",
    "Python tiene varios tipos de datos compuestos, usados para agrupar otros valores.\n",
    "\n",
    "El más versátil es la lista, la cual puede ser escrita como una lista de valores separados por coma (ítems) entre corchetes.\n",
    "\n",
    "Las listas pueden contener ítems de diferentes tipos, pero usualmente los ítems son del mismo tipo."
   ]
  },
  {
   "cell_type": "code",
   "execution_count": 90,
   "metadata": {},
   "outputs": [],
   "source": [
    "lst = [2,4,6,8,\"Python\",14.2,20]"
   ]
  },
  {
   "cell_type": "code",
   "execution_count": 91,
   "metadata": {},
   "outputs": [
    {
     "name": "stdout",
     "output_type": "stream",
     "text": [
      "[2, 4, 6, 8, 'Python', 14.2, 20]\n"
     ]
    }
   ],
   "source": [
    "print lst"
   ]
  },
  {
   "cell_type": "code",
   "execution_count": 75,
   "metadata": {},
   "outputs": [
    {
     "name": "stdout",
     "output_type": "stream",
     "text": [
      "2\n"
     ]
    }
   ],
   "source": [
    "print lst[0]"
   ]
  },
  {
   "cell_type": "code",
   "execution_count": 77,
   "metadata": {},
   "outputs": [
    {
     "name": "stdout",
     "output_type": "stream",
     "text": [
      "[4, 6]\n"
     ]
    }
   ],
   "source": [
    "print lst[1:3]"
   ]
  },
  {
   "cell_type": "code",
   "execution_count": 78,
   "metadata": {},
   "outputs": [
    {
     "data": {
      "text/plain": [
       "list"
      ]
     },
     "execution_count": 78,
     "metadata": {},
     "output_type": "execute_result"
    }
   ],
   "source": [
    "type (lst)"
   ]
  },
  {
   "cell_type": "code",
   "execution_count": 79,
   "metadata": {},
   "outputs": [
    {
     "name": "stdout",
     "output_type": "stream",
     "text": [
      "Help on class list in module __builtin__:\n",
      "\n",
      "class list(object)\n",
      " |  list() -> new empty list\n",
      " |  list(iterable) -> new list initialized from iterable's items\n",
      " |  \n",
      " |  Methods defined here:\n",
      " |  \n",
      " |  __add__(...)\n",
      " |      x.__add__(y) <==> x+y\n",
      " |  \n",
      " |  __contains__(...)\n",
      " |      x.__contains__(y) <==> y in x\n",
      " |  \n",
      " |  __delitem__(...)\n",
      " |      x.__delitem__(y) <==> del x[y]\n",
      " |  \n",
      " |  __delslice__(...)\n",
      " |      x.__delslice__(i, j) <==> del x[i:j]\n",
      " |      \n",
      " |      Use of negative indices is not supported.\n",
      " |  \n",
      " |  __eq__(...)\n",
      " |      x.__eq__(y) <==> x==y\n",
      " |  \n",
      " |  __ge__(...)\n",
      " |      x.__ge__(y) <==> x>=y\n",
      " |  \n",
      " |  __getattribute__(...)\n",
      " |      x.__getattribute__('name') <==> x.name\n",
      " |  \n",
      " |  __getitem__(...)\n",
      " |      x.__getitem__(y) <==> x[y]\n",
      " |  \n",
      " |  __getslice__(...)\n",
      " |      x.__getslice__(i, j) <==> x[i:j]\n",
      " |      \n",
      " |      Use of negative indices is not supported.\n",
      " |  \n",
      " |  __gt__(...)\n",
      " |      x.__gt__(y) <==> x>y\n",
      " |  \n",
      " |  __iadd__(...)\n",
      " |      x.__iadd__(y) <==> x+=y\n",
      " |  \n",
      " |  __imul__(...)\n",
      " |      x.__imul__(y) <==> x*=y\n",
      " |  \n",
      " |  __init__(...)\n",
      " |      x.__init__(...) initializes x; see help(type(x)) for signature\n",
      " |  \n",
      " |  __iter__(...)\n",
      " |      x.__iter__() <==> iter(x)\n",
      " |  \n",
      " |  __le__(...)\n",
      " |      x.__le__(y) <==> x<=y\n",
      " |  \n",
      " |  __len__(...)\n",
      " |      x.__len__() <==> len(x)\n",
      " |  \n",
      " |  __lt__(...)\n",
      " |      x.__lt__(y) <==> x<y\n",
      " |  \n",
      " |  __mul__(...)\n",
      " |      x.__mul__(n) <==> x*n\n",
      " |  \n",
      " |  __ne__(...)\n",
      " |      x.__ne__(y) <==> x!=y\n",
      " |  \n",
      " |  __repr__(...)\n",
      " |      x.__repr__() <==> repr(x)\n",
      " |  \n",
      " |  __reversed__(...)\n",
      " |      L.__reversed__() -- return a reverse iterator over the list\n",
      " |  \n",
      " |  __rmul__(...)\n",
      " |      x.__rmul__(n) <==> n*x\n",
      " |  \n",
      " |  __setitem__(...)\n",
      " |      x.__setitem__(i, y) <==> x[i]=y\n",
      " |  \n",
      " |  __setslice__(...)\n",
      " |      x.__setslice__(i, j, y) <==> x[i:j]=y\n",
      " |      \n",
      " |      Use  of negative indices is not supported.\n",
      " |  \n",
      " |  __sizeof__(...)\n",
      " |      L.__sizeof__() -- size of L in memory, in bytes\n",
      " |  \n",
      " |  append(...)\n",
      " |      L.append(object) -- append object to end\n",
      " |  \n",
      " |  count(...)\n",
      " |      L.count(value) -> integer -- return number of occurrences of value\n",
      " |  \n",
      " |  extend(...)\n",
      " |      L.extend(iterable) -- extend list by appending elements from the iterable\n",
      " |  \n",
      " |  index(...)\n",
      " |      L.index(value, [start, [stop]]) -> integer -- return first index of value.\n",
      " |      Raises ValueError if the value is not present.\n",
      " |  \n",
      " |  insert(...)\n",
      " |      L.insert(index, object) -- insert object before index\n",
      " |  \n",
      " |  pop(...)\n",
      " |      L.pop([index]) -> item -- remove and return item at index (default last).\n",
      " |      Raises IndexError if list is empty or index is out of range.\n",
      " |  \n",
      " |  remove(...)\n",
      " |      L.remove(value) -- remove first occurrence of value.\n",
      " |      Raises ValueError if the value is not present.\n",
      " |  \n",
      " |  reverse(...)\n",
      " |      L.reverse() -- reverse *IN PLACE*\n",
      " |  \n",
      " |  sort(...)\n",
      " |      L.sort(cmp=None, key=None, reverse=False) -- stable sort *IN PLACE*;\n",
      " |      cmp(x, y) -> -1, 0, 1\n",
      " |  \n",
      " |  ----------------------------------------------------------------------\n",
      " |  Data and other attributes defined here:\n",
      " |  \n",
      " |  __hash__ = None\n",
      " |  \n",
      " |  __new__ = <built-in method __new__ of type object>\n",
      " |      T.__new__(S, ...) -> a new object with type S, a subtype of T\n",
      "\n"
     ]
    }
   ],
   "source": [
    "help(list)"
   ]
  },
  {
   "cell_type": "code",
   "execution_count": 92,
   "metadata": {},
   "outputs": [],
   "source": [
    "lst.__delitem__(4)"
   ]
  },
  {
   "cell_type": "code",
   "execution_count": 93,
   "metadata": {},
   "outputs": [
    {
     "name": "stdout",
     "output_type": "stream",
     "text": [
      "[2, 4, 6, 8, 14.2, 20]\n"
     ]
    }
   ],
   "source": [
    "print lst"
   ]
  },
  {
   "cell_type": "code",
   "execution_count": 160,
   "metadata": {},
   "outputs": [],
   "source": [
    "lst.append(40)"
   ]
  },
  {
   "cell_type": "code",
   "execution_count": 161,
   "metadata": {},
   "outputs": [
    {
     "name": "stdout",
     "output_type": "stream",
     "text": [
      "[2, 4, 6, 8, 14.2, 20, 40]\n"
     ]
    }
   ],
   "source": [
    "print lst"
   ]
  },
  {
   "cell_type": "markdown",
   "metadata": {},
   "source": [
    "Estructura de control: ciclo for\n",
    "\n",
    "operadores relacionales: (igual a: ==) (mayor que: >) (mayor o igual que: >=) (menor que: <) (menor o igual que: <=) (distinto que: !=)\n",
    "\n",
    "operadores logicos (and) (or)"
   ]
  },
  {
   "cell_type": "code",
   "execution_count": 96,
   "metadata": {},
   "outputs": [
    {
     "name": "stdout",
     "output_type": "stream",
     "text": [
      "2\n",
      "4\n",
      "6\n",
      "8\n",
      "14.2\n",
      "20\n"
     ]
    }
   ],
   "source": [
    "for n in lst:\n",
    "    print n"
   ]
  },
  {
   "cell_type": "code",
   "execution_count": 97,
   "metadata": {},
   "outputs": [
    {
     "name": "stdout",
     "output_type": "stream",
     "text": [
      "2\n",
      "error\n",
      "error\n",
      "error\n",
      "14.2\n",
      "20\n"
     ]
    }
   ],
   "source": [
    "for n in lst:\n",
    "    if n == 2:\n",
    "        print n\n",
    "    elif n >= 14.2:\n",
    "        print n\n",
    "    else:\n",
    "        print \"error\""
   ]
  },
  {
   "cell_type": "markdown",
   "metadata": {},
   "source": [
    "lista de listas"
   ]
  },
  {
   "cell_type": "code",
   "execution_count": 98,
   "metadata": {},
   "outputs": [],
   "source": [
    "lst2 = [[1,2,3],[4,5,6]]"
   ]
  },
  {
   "cell_type": "code",
   "execution_count": 100,
   "metadata": {},
   "outputs": [
    {
     "name": "stdout",
     "output_type": "stream",
     "text": [
      "[[1, 2, 3], [4, 5, 6]]\n"
     ]
    }
   ],
   "source": [
    "print lst2"
   ]
  },
  {
   "cell_type": "code",
   "execution_count": 104,
   "metadata": {},
   "outputs": [
    {
     "name": "stdout",
     "output_type": "stream",
     "text": [
      "3\n"
     ]
    }
   ],
   "source": [
    "print lst2[0][2]"
   ]
  },
  {
   "cell_type": "code",
   "execution_count": 105,
   "metadata": {},
   "outputs": [
    {
     "data": {
      "text/plain": [
       "list"
      ]
     },
     "execution_count": 105,
     "metadata": {},
     "output_type": "execute_result"
    }
   ],
   "source": [
    "type (lst2)"
   ]
  },
  {
   "cell_type": "markdown",
   "metadata": {},
   "source": [
    "tupla"
   ]
  },
  {
   "cell_type": "code",
   "execution_count": 106,
   "metadata": {},
   "outputs": [],
   "source": [
    "tpl = (2,5,45.5,6)"
   ]
  },
  {
   "cell_type": "code",
   "execution_count": 107,
   "metadata": {},
   "outputs": [
    {
     "data": {
      "text/plain": [
       "tuple"
      ]
     },
     "execution_count": 107,
     "metadata": {},
     "output_type": "execute_result"
    }
   ],
   "source": [
    "type (tpl)"
   ]
  },
  {
   "cell_type": "code",
   "execution_count": 109,
   "metadata": {},
   "outputs": [
    {
     "name": "stdout",
     "output_type": "stream",
     "text": [
      "Help on class tuple in module __builtin__:\n",
      "\n",
      "class tuple(object)\n",
      " |  tuple() -> empty tuple\n",
      " |  tuple(iterable) -> tuple initialized from iterable's items\n",
      " |  \n",
      " |  If the argument is a tuple, the return value is the same object.\n",
      " |  \n",
      " |  Methods defined here:\n",
      " |  \n",
      " |  __add__(...)\n",
      " |      x.__add__(y) <==> x+y\n",
      " |  \n",
      " |  __contains__(...)\n",
      " |      x.__contains__(y) <==> y in x\n",
      " |  \n",
      " |  __eq__(...)\n",
      " |      x.__eq__(y) <==> x==y\n",
      " |  \n",
      " |  __ge__(...)\n",
      " |      x.__ge__(y) <==> x>=y\n",
      " |  \n",
      " |  __getattribute__(...)\n",
      " |      x.__getattribute__('name') <==> x.name\n",
      " |  \n",
      " |  __getitem__(...)\n",
      " |      x.__getitem__(y) <==> x[y]\n",
      " |  \n",
      " |  __getnewargs__(...)\n",
      " |  \n",
      " |  __getslice__(...)\n",
      " |      x.__getslice__(i, j) <==> x[i:j]\n",
      " |      \n",
      " |      Use of negative indices is not supported.\n",
      " |  \n",
      " |  __gt__(...)\n",
      " |      x.__gt__(y) <==> x>y\n",
      " |  \n",
      " |  __hash__(...)\n",
      " |      x.__hash__() <==> hash(x)\n",
      " |  \n",
      " |  __iter__(...)\n",
      " |      x.__iter__() <==> iter(x)\n",
      " |  \n",
      " |  __le__(...)\n",
      " |      x.__le__(y) <==> x<=y\n",
      " |  \n",
      " |  __len__(...)\n",
      " |      x.__len__() <==> len(x)\n",
      " |  \n",
      " |  __lt__(...)\n",
      " |      x.__lt__(y) <==> x<y\n",
      " |  \n",
      " |  __mul__(...)\n",
      " |      x.__mul__(n) <==> x*n\n",
      " |  \n",
      " |  __ne__(...)\n",
      " |      x.__ne__(y) <==> x!=y\n",
      " |  \n",
      " |  __repr__(...)\n",
      " |      x.__repr__() <==> repr(x)\n",
      " |  \n",
      " |  __rmul__(...)\n",
      " |      x.__rmul__(n) <==> n*x\n",
      " |  \n",
      " |  count(...)\n",
      " |      T.count(value) -> integer -- return number of occurrences of value\n",
      " |  \n",
      " |  index(...)\n",
      " |      T.index(value, [start, [stop]]) -> integer -- return first index of value.\n",
      " |      Raises ValueError if the value is not present.\n",
      " |  \n",
      " |  ----------------------------------------------------------------------\n",
      " |  Data and other attributes defined here:\n",
      " |  \n",
      " |  __new__ = <built-in method __new__ of type object>\n",
      " |      T.__new__(S, ...) -> a new object with type S, a subtype of T\n",
      "\n"
     ]
    }
   ],
   "source": [
    "help (tuple)"
   ]
  },
  {
   "cell_type": "code",
   "execution_count": 110,
   "metadata": {},
   "outputs": [
    {
     "ename": "AttributeError",
     "evalue": "'tuple' object has no attribute 'pop'",
     "output_type": "error",
     "traceback": [
      "\u001b[1;31m\u001b[0m",
      "\u001b[1;31mAttributeError\u001b[0mTraceback (most recent call last)",
      "\u001b[1;32m<ipython-input-110-06bac201d17c>\u001b[0m in \u001b[0;36m<module>\u001b[1;34m()\u001b[0m\n\u001b[1;32m----> 1\u001b[1;33m \u001b[0mtpl\u001b[0m\u001b[1;33m.\u001b[0m\u001b[0mpop\u001b[0m\u001b[1;33m\u001b[0m\u001b[0m\n\u001b[0m",
      "\u001b[1;31mAttributeError\u001b[0m: 'tuple' object has no attribute 'pop'"
     ]
    }
   ],
   "source": [
    "tpl.pop"
   ]
  },
  {
   "cell_type": "markdown",
   "metadata": {},
   "source": [
    "Estructura de control iteractiva: while"
   ]
  },
  {
   "cell_type": "code",
   "execution_count": 111,
   "metadata": {},
   "outputs": [
    {
     "name": "stdout",
     "output_type": "stream",
     "text": [
      "2\n",
      "error\n",
      "error\n",
      "error\n",
      "14.2\n",
      "20\n",
      "Quieres repetir el programa? \"si\"\n",
      "2\n",
      "error\n",
      "error\n",
      "error\n",
      "14.2\n",
      "20\n",
      "Quieres repetir el programa? lkndew\n"
     ]
    },
    {
     "ename": "NameError",
     "evalue": "name 'lkndew' is not defined",
     "output_type": "error",
     "traceback": [
      "\u001b[1;31m\u001b[0m",
      "\u001b[1;31mNameError\u001b[0mTraceback (most recent call last)",
      "\u001b[1;32m<ipython-input-111-a014decea1ae>\u001b[0m in \u001b[0;36m<module>\u001b[1;34m()\u001b[0m\n\u001b[0;32m      8\u001b[0m         \u001b[1;32melse\u001b[0m\u001b[1;33m:\u001b[0m\u001b[1;33m\u001b[0m\u001b[0m\n\u001b[0;32m      9\u001b[0m             \u001b[1;32mprint\u001b[0m \u001b[1;34m\"error\"\u001b[0m\u001b[1;33m\u001b[0m\u001b[0m\n\u001b[1;32m---> 10\u001b[1;33m     \u001b[0mr\u001b[0m \u001b[1;33m=\u001b[0m \u001b[0minput\u001b[0m\u001b[1;33m(\u001b[0m\u001b[1;34m\"Quieres repetir el programa? \"\u001b[0m\u001b[1;33m)\u001b[0m\u001b[1;33m\u001b[0m\u001b[0m\n\u001b[0m",
      "\u001b[1;32mC:\\Anaconda2\\lib\\site-packages\\ipykernel\\ipkernel.pyc\u001b[0m in \u001b[0;36m<lambda>\u001b[1;34m(prompt)\u001b[0m\n\u001b[0;32m    174\u001b[0m             \u001b[0mself\u001b[0m\u001b[1;33m.\u001b[0m\u001b[0m_sys_eval_input\u001b[0m \u001b[1;33m=\u001b[0m \u001b[0mbuiltin_mod\u001b[0m\u001b[1;33m.\u001b[0m\u001b[0minput\u001b[0m\u001b[1;33m\u001b[0m\u001b[0m\n\u001b[0;32m    175\u001b[0m             \u001b[0mbuiltin_mod\u001b[0m\u001b[1;33m.\u001b[0m\u001b[0mraw_input\u001b[0m \u001b[1;33m=\u001b[0m \u001b[0mself\u001b[0m\u001b[1;33m.\u001b[0m\u001b[0mraw_input\u001b[0m\u001b[1;33m\u001b[0m\u001b[0m\n\u001b[1;32m--> 176\u001b[1;33m             \u001b[0mbuiltin_mod\u001b[0m\u001b[1;33m.\u001b[0m\u001b[0minput\u001b[0m \u001b[1;33m=\u001b[0m \u001b[1;32mlambda\u001b[0m \u001b[0mprompt\u001b[0m\u001b[1;33m=\u001b[0m\u001b[1;34m''\u001b[0m\u001b[1;33m:\u001b[0m \u001b[0meval\u001b[0m\u001b[1;33m(\u001b[0m\u001b[0mself\u001b[0m\u001b[1;33m.\u001b[0m\u001b[0mraw_input\u001b[0m\u001b[1;33m(\u001b[0m\u001b[0mprompt\u001b[0m\u001b[1;33m)\u001b[0m\u001b[1;33m)\u001b[0m\u001b[1;33m\u001b[0m\u001b[0m\n\u001b[0m\u001b[0;32m    177\u001b[0m         \u001b[0mself\u001b[0m\u001b[1;33m.\u001b[0m\u001b[0m_save_getpass\u001b[0m \u001b[1;33m=\u001b[0m \u001b[0mgetpass\u001b[0m\u001b[1;33m.\u001b[0m\u001b[0mgetpass\u001b[0m\u001b[1;33m\u001b[0m\u001b[0m\n\u001b[0;32m    178\u001b[0m         \u001b[0mgetpass\u001b[0m\u001b[1;33m.\u001b[0m\u001b[0mgetpass\u001b[0m \u001b[1;33m=\u001b[0m \u001b[0mself\u001b[0m\u001b[1;33m.\u001b[0m\u001b[0mgetpass\u001b[0m\u001b[1;33m\u001b[0m\u001b[0m\n",
      "\u001b[1;32mC:\\Anaconda2\\lib\\site-packages\\ipykernel\\ipkernel.pyc\u001b[0m in \u001b[0;36m<module>\u001b[1;34m()\u001b[0m\n",
      "\u001b[1;31mNameError\u001b[0m: name 'lkndew' is not defined"
     ]
    }
   ],
   "source": [
    "r = \"si\"\n",
    "while r == \"si\":\n",
    "    for n in lst:\n",
    "        if n == 2:\n",
    "            print n\n",
    "        elif n >= 14.2:\n",
    "            print n\n",
    "        else:\n",
    "            print \"error\"\n",
    "    r = input(\"Quieres repetir el programa? \")"
   ]
  },
  {
   "cell_type": "code",
   "execution_count": 5,
   "metadata": {},
   "outputs": [
    {
     "name": "stdout",
     "output_type": "stream",
     "text": [
      "El valor de la variable es.: 0\n",
      "El valor de la variable es.: 1\n",
      "El valor de la variable es.: 2\n",
      "El valor de la variable es.: 3\n",
      "El valor de la variable es.: 4\n",
      "El valor de la variable es.: 5\n",
      "El valor de la variable es.: 6\n",
      "El valor de la variable es.: 7\n",
      "El valor de la variable es.: 8\n",
      "El valor de la variable es.: 9\n"
     ]
    }
   ],
   "source": [
    "numero = 0\n",
    "while numero < 10:\n",
    "    print(\"El valor de la variable es.: %s\" %numero)\n",
    "    numero = numero + 1"
   ]
  },
  {
   "cell_type": "markdown",
   "metadata": {},
   "source": [
    "Diccionarios:\n",
    "\n",
    "Los diccionarios son objetos que contienen una lista de parejas de elementos. De cada pareja un elemento es la clave, que no puede repetirse y el otro, un valor asociado. La clave que se utiliza para acceder al valor tiene que ser un dato inmutable como una cadena, mientras que el valor puede ser un número, una cadena, un valor lógico (True/False), una lista o una tupla.\n",
    "Los pares clave-valor están separados por dos puntos, las parejas por comas y todo el conjunto se encierra entre llaves.\n",
    "\n",
    "\n"
   ]
  },
  {
   "cell_type": "code",
   "execution_count": 112,
   "metadata": {},
   "outputs": [],
   "source": [
    "dic = {\"clave1\":3,\"clave2\":6}"
   ]
  },
  {
   "cell_type": "code",
   "execution_count": 133,
   "metadata": {},
   "outputs": [
    {
     "data": {
      "text/plain": [
       "dict"
      ]
     },
     "execution_count": 133,
     "metadata": {},
     "output_type": "execute_result"
    }
   ],
   "source": [
    "type (dic)"
   ]
  },
  {
   "cell_type": "code",
   "execution_count": 134,
   "metadata": {},
   "outputs": [
    {
     "name": "stdout",
     "output_type": "stream",
     "text": [
      "3\n"
     ]
    }
   ],
   "source": [
    "print dic[\"clave1\"]"
   ]
  },
  {
   "cell_type": "code",
   "execution_count": 135,
   "metadata": {},
   "outputs": [
    {
     "name": "stdout",
     "output_type": "stream",
     "text": [
      "Help on class dict in module __builtin__:\n",
      "\n",
      "class dict(object)\n",
      " |  dict() -> new empty dictionary\n",
      " |  dict(mapping) -> new dictionary initialized from a mapping object's\n",
      " |      (key, value) pairs\n",
      " |  dict(iterable) -> new dictionary initialized as if via:\n",
      " |      d = {}\n",
      " |      for k, v in iterable:\n",
      " |          d[k] = v\n",
      " |  dict(**kwargs) -> new dictionary initialized with the name=value pairs\n",
      " |      in the keyword argument list.  For example:  dict(one=1, two=2)\n",
      " |  \n",
      " |  Methods defined here:\n",
      " |  \n",
      " |  __cmp__(...)\n",
      " |      x.__cmp__(y) <==> cmp(x,y)\n",
      " |  \n",
      " |  __contains__(...)\n",
      " |      D.__contains__(k) -> True if D has a key k, else False\n",
      " |  \n",
      " |  __delitem__(...)\n",
      " |      x.__delitem__(y) <==> del x[y]\n",
      " |  \n",
      " |  __eq__(...)\n",
      " |      x.__eq__(y) <==> x==y\n",
      " |  \n",
      " |  __ge__(...)\n",
      " |      x.__ge__(y) <==> x>=y\n",
      " |  \n",
      " |  __getattribute__(...)\n",
      " |      x.__getattribute__('name') <==> x.name\n",
      " |  \n",
      " |  __getitem__(...)\n",
      " |      x.__getitem__(y) <==> x[y]\n",
      " |  \n",
      " |  __gt__(...)\n",
      " |      x.__gt__(y) <==> x>y\n",
      " |  \n",
      " |  __init__(...)\n",
      " |      x.__init__(...) initializes x; see help(type(x)) for signature\n",
      " |  \n",
      " |  __iter__(...)\n",
      " |      x.__iter__() <==> iter(x)\n",
      " |  \n",
      " |  __le__(...)\n",
      " |      x.__le__(y) <==> x<=y\n",
      " |  \n",
      " |  __len__(...)\n",
      " |      x.__len__() <==> len(x)\n",
      " |  \n",
      " |  __lt__(...)\n",
      " |      x.__lt__(y) <==> x<y\n",
      " |  \n",
      " |  __ne__(...)\n",
      " |      x.__ne__(y) <==> x!=y\n",
      " |  \n",
      " |  __repr__(...)\n",
      " |      x.__repr__() <==> repr(x)\n",
      " |  \n",
      " |  __setitem__(...)\n",
      " |      x.__setitem__(i, y) <==> x[i]=y\n",
      " |  \n",
      " |  __sizeof__(...)\n",
      " |      D.__sizeof__() -> size of D in memory, in bytes\n",
      " |  \n",
      " |  clear(...)\n",
      " |      D.clear() -> None.  Remove all items from D.\n",
      " |  \n",
      " |  copy(...)\n",
      " |      D.copy() -> a shallow copy of D\n",
      " |  \n",
      " |  fromkeys(...)\n",
      " |      dict.fromkeys(S[,v]) -> New dict with keys from S and values equal to v.\n",
      " |      v defaults to None.\n",
      " |  \n",
      " |  get(...)\n",
      " |      D.get(k[,d]) -> D[k] if k in D, else d.  d defaults to None.\n",
      " |  \n",
      " |  has_key(...)\n",
      " |      D.has_key(k) -> True if D has a key k, else False\n",
      " |  \n",
      " |  items(...)\n",
      " |      D.items() -> list of D's (key, value) pairs, as 2-tuples\n",
      " |  \n",
      " |  iteritems(...)\n",
      " |      D.iteritems() -> an iterator over the (key, value) items of D\n",
      " |  \n",
      " |  iterkeys(...)\n",
      " |      D.iterkeys() -> an iterator over the keys of D\n",
      " |  \n",
      " |  itervalues(...)\n",
      " |      D.itervalues() -> an iterator over the values of D\n",
      " |  \n",
      " |  keys(...)\n",
      " |      D.keys() -> list of D's keys\n",
      " |  \n",
      " |  pop(...)\n",
      " |      D.pop(k[,d]) -> v, remove specified key and return the corresponding value.\n",
      " |      If key is not found, d is returned if given, otherwise KeyError is raised\n",
      " |  \n",
      " |  popitem(...)\n",
      " |      D.popitem() -> (k, v), remove and return some (key, value) pair as a\n",
      " |      2-tuple; but raise KeyError if D is empty.\n",
      " |  \n",
      " |  setdefault(...)\n",
      " |      D.setdefault(k[,d]) -> D.get(k,d), also set D[k]=d if k not in D\n",
      " |  \n",
      " |  update(...)\n",
      " |      D.update([E, ]**F) -> None.  Update D from dict/iterable E and F.\n",
      " |      If E present and has a .keys() method, does:     for k in E: D[k] = E[k]\n",
      " |      If E present and lacks .keys() method, does:     for (k, v) in E: D[k] = v\n",
      " |      In either case, this is followed by: for k in F: D[k] = F[k]\n",
      " |  \n",
      " |  values(...)\n",
      " |      D.values() -> list of D's values\n",
      " |  \n",
      " |  viewitems(...)\n",
      " |      D.viewitems() -> a set-like object providing a view on D's items\n",
      " |  \n",
      " |  viewkeys(...)\n",
      " |      D.viewkeys() -> a set-like object providing a view on D's keys\n",
      " |  \n",
      " |  viewvalues(...)\n",
      " |      D.viewvalues() -> an object providing a view on D's values\n",
      " |  \n",
      " |  ----------------------------------------------------------------------\n",
      " |  Data and other attributes defined here:\n",
      " |  \n",
      " |  __hash__ = None\n",
      " |  \n",
      " |  __new__ = <built-in method __new__ of type object>\n",
      " |      T.__new__(S, ...) -> a new object with type S, a subtype of T\n",
      "\n"
     ]
    }
   ],
   "source": [
    "help(dict)"
   ]
  },
  {
   "cell_type": "code",
   "execution_count": 138,
   "metadata": {},
   "outputs": [
    {
     "name": "stdout",
     "output_type": "stream",
     "text": [
      "['clave1', 'clave2']\n"
     ]
    }
   ],
   "source": [
    "print dic.keys()"
   ]
  },
  {
   "cell_type": "code",
   "execution_count": 139,
   "metadata": {},
   "outputs": [
    {
     "name": "stdout",
     "output_type": "stream",
     "text": [
      "[3, 6]\n"
     ]
    }
   ],
   "source": [
    "print dic.values()"
   ]
  },
  {
   "cell_type": "code",
   "execution_count": 118,
   "metadata": {},
   "outputs": [],
   "source": [
    "capitales = {\"México\":\"CDMX\",\"Chile\":\"Santiago\",\"Colombia\":\"Botogá\"}"
   ]
  },
  {
   "cell_type": "code",
   "execution_count": 119,
   "metadata": {},
   "outputs": [
    {
     "name": "stdout",
     "output_type": "stream",
     "text": [
      "la capital de Colombia es:  Botogá\n"
     ]
    }
   ],
   "source": [
    "print \"la capital de Colombia es: \",capitales[\"Colombia\"]"
   ]
  },
  {
   "cell_type": "markdown",
   "metadata": {},
   "source": [
    "Funciones: bloque de codigo que hace una tarea y devuelve un resultado"
   ]
  },
  {
   "cell_type": "code",
   "execution_count": 129,
   "metadata": {},
   "outputs": [],
   "source": [
    "def suma(h,i):\n",
    "    return h+i"
   ]
  },
  {
   "cell_type": "code",
   "execution_count": 130,
   "metadata": {},
   "outputs": [],
   "source": [
    "j = suma(5,6)"
   ]
  },
  {
   "cell_type": "code",
   "execution_count": 131,
   "metadata": {},
   "outputs": [
    {
     "name": "stdout",
     "output_type": "stream",
     "text": [
      "11\n"
     ]
    }
   ],
   "source": [
    "print j"
   ]
  },
  {
   "cell_type": "markdown",
   "metadata": {},
   "source": [
    "EJERCICIO"
   ]
  },
  {
   "cell_type": "code",
   "execution_count": 140,
   "metadata": {},
   "outputs": [],
   "source": [
    "pts = {\"OCGCE3349\":[\"Rio Coatzacoalcos 1\",324276.783,1975545.007,30,\"Excelente\"],\"OCGCE3375\":[\"Estero Otapa\",333721.484,1978209.607,30,\"Excelente\"],\"OCGCE3419\":[\"Rio Chiquito\",324809.168,1976885.060,30,\"Excelente\"],\"OCGCE3451\":[\"Rio Coachapa\",335629.179,1983071.131,30,\"Excelente\"],\"OCGCE3456\":[\"Rio Coatzacoalcos 2\",335749.060,1987914.435,30,\"Excelente\"],\"OCGCE3459\":[\"Rio Coatzacoalcos 3\",335444.082,1983614.990,30,\"Excelente\"],\"OCGCE3461\":[\"Rio Coatzacoalcos 4\",334017.146,1978727.190,30,\"Excelente\"],\"OCGCE3452\":[\"Rio San Antonio\",346987.344,1991813.445,30,\"Excelente\"],\"OCGCE3453\":[\"Rio Coatzacoalcos 5\",346699.428,1992369.053,30,\"Buena\"],\"OCGCE3455\":[\"Rio Uxpanapa\",343591.833,1986415.040,30,\"Excelente\"],\"OCGCE3161\":[\"Rio Coatzacoalcos 6\",350266.511,1999116.741,30,\"Buena\"],\"OCGCE3331\":[\"Rio Calzadas\",347767.515,2001577.481,30,\"Aceptable\"],\"OCGCE3367\":[\"Rio Coatzacoalcos 7\",343245.407,1987337.489,30,\"Buena\"]}"
   ]
  },
  {
   "cell_type": "markdown",
   "metadata": {},
   "source": [
    "Imprimir claves del diccionario"
   ]
  },
  {
   "cell_type": "code",
   "execution_count": 143,
   "metadata": {},
   "outputs": [
    {
     "name": "stdout",
     "output_type": "stream",
     "text": [
      "['OCGCE3367', 'OCGCE3331', 'OCGCE3419', 'OCGCE3375', 'OCGCE3161', 'OCGCE3459', 'OCGCE3452', 'OCGCE3453', 'OCGCE3451', 'OCGCE3456', 'OCGCE3461', 'OCGCE3455', 'OCGCE3349']\n"
     ]
    }
   ],
   "source": [
    "print pts.keys()"
   ]
  },
  {
   "cell_type": "markdown",
   "metadata": {},
   "source": [
    "Imprimir valores del diccionario"
   ]
  },
  {
   "cell_type": "code",
   "execution_count": 144,
   "metadata": {},
   "outputs": [
    {
     "name": "stdout",
     "output_type": "stream",
     "text": [
      "[['Rio Coatzacoalcos 7', 343245.407, 1987337.489, 30, 'Buena'], ['Rio Calzadas', 347767.515, 2001577.481, 30, 'Aceptable'], ['Rio Chiquito', 324809.168, 1976885.06, 30, 'Excelente'], ['Estero Otapa', 333721.484, 1978209.607, 30, 'Excelente'], ['Rio Coatzacoalcos 6', 350266.511, 1999116.741, 30, 'Buena'], ['Rio Coatzacoalcos 3', 335444.082, 1983614.99, 30, 'Excelente'], ['Rio San Antonio', 346987.344, 1991813.445, 30, 'Excelente'], ['Rio Coatzacoalcos 5', 346699.428, 1992369.053, 30, 'Buena'], ['Rio Coachapa', 335629.179, 1983071.131, 30, 'Excelente'], ['Rio Coatzacoalcos 2', 335749.06, 1987914.435, 30, 'Excelente'], ['Rio Coatzacoalcos 4', 334017.146, 1978727.19, 30, 'Excelente'], ['Rio Uxpanapa', 343591.833, 1986415.04, 30, 'Excelente'], ['Rio Coatzacoalcos 1', 324276.783, 1975545.007, 30, 'Excelente']]\n"
     ]
    }
   ],
   "source": [
    "print pts.values()"
   ]
  },
  {
   "cell_type": "markdown",
   "metadata": {},
   "source": [
    "Imprimir claves del diccionario de la siguiente manera:\n",
    "\n",
    "OCGCE3367\n",
    "\n",
    "OCGCE3331\n",
    "\n",
    "OCGCE3419\n"
   ]
  },
  {
   "cell_type": "code",
   "execution_count": 145,
   "metadata": {},
   "outputs": [
    {
     "name": "stdout",
     "output_type": "stream",
     "text": [
      "OCGCE3367\n",
      "OCGCE3331\n",
      "OCGCE3419\n",
      "OCGCE3375\n",
      "OCGCE3161\n",
      "OCGCE3459\n",
      "OCGCE3452\n",
      "OCGCE3453\n",
      "OCGCE3451\n",
      "OCGCE3456\n",
      "OCGCE3461\n",
      "OCGCE3455\n",
      "OCGCE3349\n"
     ]
    }
   ],
   "source": [
    "for n in pts.keys():\n",
    "    print n"
   ]
  },
  {
   "cell_type": "code",
   "execution_count": 148,
   "metadata": {},
   "outputs": [
    {
     "name": "stdout",
     "output_type": "stream",
     "text": [
      "['Rio Coatzacoalcos 7', 343245.407, 1987337.489, 30, 'Buena']\n",
      "['Rio Calzadas', 347767.515, 2001577.481, 30, 'Aceptable']\n",
      "['Rio Chiquito', 324809.168, 1976885.06, 30, 'Excelente']\n",
      "['Estero Otapa', 333721.484, 1978209.607, 30, 'Excelente']\n",
      "['Rio Coatzacoalcos 6', 350266.511, 1999116.741, 30, 'Buena']\n",
      "['Rio Coatzacoalcos 3', 335444.082, 1983614.99, 30, 'Excelente']\n",
      "['Rio San Antonio', 346987.344, 1991813.445, 30, 'Excelente']\n",
      "['Rio Coatzacoalcos 5', 346699.428, 1992369.053, 30, 'Buena']\n",
      "['Rio Coachapa', 335629.179, 1983071.131, 30, 'Excelente']\n",
      "['Rio Coatzacoalcos 2', 335749.06, 1987914.435, 30, 'Excelente']\n",
      "['Rio Coatzacoalcos 4', 334017.146, 1978727.19, 30, 'Excelente']\n",
      "['Rio Uxpanapa', 343591.833, 1986415.04, 30, 'Excelente']\n",
      "['Rio Coatzacoalcos 1', 324276.783, 1975545.007, 30, 'Excelente']\n"
     ]
    }
   ],
   "source": [
    "for n in pts.values():\n",
    "    print n"
   ]
  },
  {
   "cell_type": "markdown",
   "metadata": {},
   "source": [
    "Ingresar a la posicion 0 del valor 0 del diccionario ('Rio Coatzacoalcos 7')"
   ]
  },
  {
   "cell_type": "code",
   "execution_count": 154,
   "metadata": {},
   "outputs": [
    {
     "name": "stdout",
     "output_type": "stream",
     "text": [
      "Rio Coatzacoalcos 7\n"
     ]
    }
   ],
   "source": [
    "print pts[\"OCGCE3367\"][0]"
   ]
  },
  {
   "cell_type": "markdown",
   "metadata": {},
   "source": [
    "Imprimir solo las coordenadas: \n",
    "\n",
    "343245.407 1987337.489\n",
    "\n",
    "347767.515 2001577.481\n",
    "\n",
    "324809.168 1976885.06\n"
   ]
  },
  {
   "cell_type": "code",
   "execution_count": 159,
   "metadata": {},
   "outputs": [
    {
     "name": "stdout",
     "output_type": "stream",
     "text": [
      "343245.407 1987337.489\n",
      "347767.515 2001577.481\n",
      "324809.168 1976885.06\n",
      "333721.484 1978209.607\n",
      "350266.511 1999116.741\n",
      "335444.082 1983614.99\n",
      "346987.344 1991813.445\n",
      "346699.428 1992369.053\n",
      "335629.179 1983071.131\n",
      "335749.06 1987914.435\n",
      "334017.146 1978727.19\n",
      "343591.833 1986415.04\n",
      "324276.783 1975545.007\n"
     ]
    }
   ],
   "source": [
    "for n in pts.keys():\n",
    "    print pts[n][1] , pts[n][2]"
   ]
  },
  {
   "cell_type": "markdown",
   "metadata": {},
   "source": [
    "Extraer las coordenadas X,Y y almcenarlas en listas"
   ]
  },
  {
   "cell_type": "code",
   "execution_count": 172,
   "metadata": {},
   "outputs": [],
   "source": [
    "cord_x = []\n",
    "cord_y = []\n",
    "for n in pts.keys():\n",
    "    cord_x.append(pts[n][1])\n",
    "    cord_y.append(pts[n][2])"
   ]
  },
  {
   "cell_type": "code",
   "execution_count": 173,
   "metadata": {},
   "outputs": [
    {
     "name": "stdout",
     "output_type": "stream",
     "text": [
      "[1987337.489, 2001577.481, 1976885.06, 1978209.607, 1999116.741, 1983614.99, 1991813.445, 1992369.053, 1983071.131, 1987914.435, 1978727.19, 1986415.04, 1975545.007]\n"
     ]
    }
   ],
   "source": [
    "print cord_y"
   ]
  },
  {
   "cell_type": "raw",
   "metadata": {},
   "source": [
    "Imprimir coordenadas en este formato:\n",
    "(343245.407, 1987337.489)\n",
    "(347767.515, 2001577.481)\n",
    ".\n",
    ".\n",
    "."
   ]
  },
  {
   "cell_type": "code",
   "execution_count": 174,
   "metadata": {},
   "outputs": [
    {
     "name": "stdout",
     "output_type": "stream",
     "text": [
      "(343245.407, 1987337.489)\n",
      "(347767.515, 2001577.481)\n",
      "(324809.168, 1976885.06)\n",
      "(333721.484, 1978209.607)\n",
      "(350266.511, 1999116.741)\n",
      "(335444.082, 1983614.99)\n",
      "(346987.344, 1991813.445)\n",
      "(346699.428, 1992369.053)\n",
      "(335629.179, 1983071.131)\n",
      "(335749.06, 1987914.435)\n",
      "(334017.146, 1978727.19)\n",
      "(343591.833, 1986415.04)\n",
      "(324276.783, 1975545.007)\n"
     ]
    }
   ],
   "source": [
    "for n in zip(cord_x,cord_y):\n",
    "    print n"
   ]
  },
  {
   "cell_type": "raw",
   "metadata": {},
   "source": [
    "Imprimir el diccionario en este formato:\n",
    "OCGCE3367 \tRio Coatzacoalcos 7 \t343245.407 \t1987337.489 \t30 \tBuena\n",
    "OCGCE3331 \tRio Calzadas \t347767.515 \t2001577.481 \t30 \tAceptable\n",
    ".\n",
    ".\n",
    "."
   ]
  },
  {
   "cell_type": "code",
   "execution_count": 175,
   "metadata": {},
   "outputs": [
    {
     "name": "stdout",
     "output_type": "stream",
     "text": [
      "OCGCE3367 \tRio Coatzacoalcos 7 \t343245.407 \t1987337.489 \t30 \tBuena\n",
      "OCGCE3331 \tRio Calzadas \t347767.515 \t2001577.481 \t30 \tAceptable\n",
      "OCGCE3419 \tRio Chiquito \t324809.168 \t1976885.06 \t30 \tExcelente\n",
      "OCGCE3375 \tEstero Otapa \t333721.484 \t1978209.607 \t30 \tExcelente\n",
      "OCGCE3161 \tRio Coatzacoalcos 6 \t350266.511 \t1999116.741 \t30 \tBuena\n",
      "OCGCE3459 \tRio Coatzacoalcos 3 \t335444.082 \t1983614.99 \t30 \tExcelente\n",
      "OCGCE3452 \tRio San Antonio \t346987.344 \t1991813.445 \t30 \tExcelente\n",
      "OCGCE3453 \tRio Coatzacoalcos 5 \t346699.428 \t1992369.053 \t30 \tBuena\n",
      "OCGCE3451 \tRio Coachapa \t335629.179 \t1983071.131 \t30 \tExcelente\n",
      "OCGCE3456 \tRio Coatzacoalcos 2 \t335749.06 \t1987914.435 \t30 \tExcelente\n",
      "OCGCE3461 \tRio Coatzacoalcos 4 \t334017.146 \t1978727.19 \t30 \tExcelente\n",
      "OCGCE3455 \tRio Uxpanapa \t343591.833 \t1986415.04 \t30 \tExcelente\n",
      "OCGCE3349 \tRio Coatzacoalcos 1 \t324276.783 \t1975545.007 \t30 \tExcelente\n"
     ]
    }
   ],
   "source": [
    "for n in pts:\n",
    "    print n,\"\\t\",pts[n][0],\"\\t\",pts[n][1],\"\\t\",pts[n][2],\"\\t\",pts[n][3],\"\\t\",pts[n][4]"
   ]
  },
  {
   "cell_type": "code",
   "execution_count": 176,
   "metadata": {},
   "outputs": [
    {
     "name": "stdout",
     "output_type": "stream",
     "text": [
      "OCGCE3367 ['Rio Coatzacoalcos 7', 343245.407, 1987337.489, 30, 'Buena']\n",
      "OCGCE3331 ['Rio Calzadas', 347767.515, 2001577.481, 30, 'Aceptable']\n",
      "OCGCE3419 ['Rio Chiquito', 324809.168, 1976885.06, 30, 'Excelente']\n",
      "OCGCE3375 ['Estero Otapa', 333721.484, 1978209.607, 30, 'Excelente']\n",
      "OCGCE3161 ['Rio Coatzacoalcos 6', 350266.511, 1999116.741, 30, 'Buena']\n",
      "OCGCE3459 ['Rio Coatzacoalcos 3', 335444.082, 1983614.99, 30, 'Excelente']\n",
      "OCGCE3452 ['Rio San Antonio', 346987.344, 1991813.445, 30, 'Excelente']\n",
      "OCGCE3453 ['Rio Coatzacoalcos 5', 346699.428, 1992369.053, 30, 'Buena']\n",
      "OCGCE3451 ['Rio Coachapa', 335629.179, 1983071.131, 30, 'Excelente']\n",
      "OCGCE3456 ['Rio Coatzacoalcos 2', 335749.06, 1987914.435, 30, 'Excelente']\n",
      "OCGCE3461 ['Rio Coatzacoalcos 4', 334017.146, 1978727.19, 30, 'Excelente']\n",
      "OCGCE3455 ['Rio Uxpanapa', 343591.833, 1986415.04, 30, 'Excelente']\n",
      "OCGCE3349 ['Rio Coatzacoalcos 1', 324276.783, 1975545.007, 30, 'Excelente']\n"
     ]
    }
   ],
   "source": [
    "for k, v in pts.items():\n",
    "    print k,v "
   ]
  },
  {
   "cell_type": "markdown",
   "metadata": {},
   "source": [
    "Imprimir solo elementos de calidad 'Buena'\n",
    "\n",
    "    OCGCE3367 \tRio Coatzacoalcos 7 \t343245.407 \t1987337.489 \t30 \tBuena\n",
    "\n",
    ".\n"
   ]
  },
  {
   "cell_type": "markdown",
   "metadata": {},
   "source": [
    "#### for n in pts.keys():\n",
    "    if pts[n][4] == \"Buena\":\n",
    "        print n,\"\\t\",pts[n][0],\"\\t\",pts[n][1],\"\\t\",pts[n][2],\"\\t\",pts[n][3],\"\\t\",pts[n][4]"
   ]
  },
  {
   "cell_type": "code",
   "execution_count": 179,
   "metadata": {},
   "outputs": [
    {
     "name": "stdout",
     "output_type": "stream",
     "text": [
      "OCGCE3367 ['Rio Coatzacoalcos 7', 343245.407, 1987337.489, 30, 'Buena']\n",
      "OCGCE3161 ['Rio Coatzacoalcos 6', 350266.511, 1999116.741, 30, 'Buena']\n",
      "OCGCE3453 ['Rio Coatzacoalcos 5', 346699.428, 1992369.053, 30, 'Buena']\n"
     ]
    }
   ],
   "source": [
    "for k, v in pts.items():\n",
    "    if pts[k][4] == \"Buena\":\n",
    "        print k,v "
   ]
  },
  {
   "cell_type": "markdown",
   "metadata": {},
   "source": [
    "Eliminar el codigo de estado del diccionario"
   ]
  },
  {
   "cell_type": "code",
   "execution_count": 180,
   "metadata": {},
   "outputs": [],
   "source": [
    "for k, v in pts.items():\n",
    "    v.pop(3)"
   ]
  },
  {
   "cell_type": "code",
   "execution_count": 181,
   "metadata": {},
   "outputs": [
    {
     "name": "stdout",
     "output_type": "stream",
     "text": [
      "OCGCE3367 ['Rio Coatzacoalcos 7', 343245.407, 1987337.489, 'Buena']\n",
      "OCGCE3331 ['Rio Calzadas', 347767.515, 2001577.481, 'Aceptable']\n",
      "OCGCE3419 ['Rio Chiquito', 324809.168, 1976885.06, 'Excelente']\n",
      "OCGCE3375 ['Estero Otapa', 333721.484, 1978209.607, 'Excelente']\n",
      "OCGCE3161 ['Rio Coatzacoalcos 6', 350266.511, 1999116.741, 'Buena']\n",
      "OCGCE3459 ['Rio Coatzacoalcos 3', 335444.082, 1983614.99, 'Excelente']\n",
      "OCGCE3452 ['Rio San Antonio', 346987.344, 1991813.445, 'Excelente']\n",
      "OCGCE3453 ['Rio Coatzacoalcos 5', 346699.428, 1992369.053, 'Buena']\n",
      "OCGCE3451 ['Rio Coachapa', 335629.179, 1983071.131, 'Excelente']\n",
      "OCGCE3456 ['Rio Coatzacoalcos 2', 335749.06, 1987914.435, 'Excelente']\n",
      "OCGCE3461 ['Rio Coatzacoalcos 4', 334017.146, 1978727.19, 'Excelente']\n",
      "OCGCE3455 ['Rio Uxpanapa', 343591.833, 1986415.04, 'Excelente']\n",
      "OCGCE3349 ['Rio Coatzacoalcos 1', 324276.783, 1975545.007, 'Excelente']\n"
     ]
    }
   ],
   "source": [
    "for k, v in pts.items():\n",
    "    print k,v "
   ]
  }
 ],
 "metadata": {
  "kernelspec": {
   "display_name": "Python 2",
   "language": "python",
   "name": "python2"
  },
  "language_info": {
   "codemirror_mode": {
    "name": "ipython",
    "version": 2
   },
   "file_extension": ".py",
   "mimetype": "text/x-python",
   "name": "python",
   "nbconvert_exporter": "python",
   "pygments_lexer": "ipython2",
   "version": "2.7.15"
  }
 },
 "nbformat": 4,
 "nbformat_minor": 2
}
